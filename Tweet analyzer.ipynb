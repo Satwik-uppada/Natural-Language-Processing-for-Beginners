{
 "cells": [
  {
   "cell_type": "code",
   "execution_count": 1,
   "metadata": {},
   "outputs": [],
   "source": [
    "\n",
    "import nltk\n",
    "import re\n",
    "from nltk.tokenize import word_tokenize"
   ]
  },
  {
   "cell_type": "code",
   "execution_count": 9,
   "metadata": {},
   "outputs": [],
   "source": [
    "tweets = [\n",
    "    \"just watched a great movie! #awesome\",\n",
    "    \"Feeling happy today 😊\",\n",
    "    \"I can't believe what happened yesterday....\",\n",
    "]"
   ]
  },
  {
   "cell_type": "code",
   "execution_count": 10,
   "metadata": {},
   "outputs": [],
   "source": [
    "def clean_tweets(tweet):\n",
    "    tweet = re.sub(r'http\\S+','',tweet)\n",
    "    \n",
    "    tweet = re.sub(r'@[^\\s]+','',tweet)\n",
    "    \n",
    "    \n",
    "    tweet = re.sub(r'[^A-z\\s]','',tweet)\n",
    "    \n",
    "    tweet = re.sub(r'\\s+',' ',tweet).strip()\n",
    "    return tweet\n",
    "    "
   ]
  },
  {
   "cell_type": "code",
   "execution_count": 11,
   "metadata": {},
   "outputs": [
    {
     "name": "stdout",
     "output_type": "stream",
     "text": [
      "[['just', 'watched', 'a', 'great', 'movie', 'awesome'], ['Feeling', 'happy', 'today'], ['I', 'cant', 'believe', 'what', 'happened', 'yesterday']]\n"
     ]
    }
   ],
   "source": [
    "cleaned_tweets_tokens= []\n",
    "\n",
    "for i in tweets:\n",
    "    cleaned_tweets=clean_tweets(i)\n",
    "    tokens = word_tokenize(cleaned_tweets)\n",
    "    cleaned_tweets_tokens.append(tokens)\n",
    "    \n",
    "\n",
    "print(cleaned_tweets_tokens)"
   ]
  },
  {
   "cell_type": "code",
   "execution_count": null,
   "metadata": {},
   "outputs": [],
   "source": []
  },
  {
   "cell_type": "code",
   "execution_count": null,
   "metadata": {},
   "outputs": [],
   "source": [
    "data = pd.read_csv(\"C:\\\\Users\\\\uppada satwik\\\\Downloads\\\\tweets.csv\")\n"
   ]
  }
 ],
 "metadata": {
  "kernelspec": {
   "display_name": "Python 3",
   "language": "python",
   "name": "python3"
  },
  "language_info": {
   "codemirror_mode": {
    "name": "ipython",
    "version": 3
   },
   "file_extension": ".py",
   "mimetype": "text/x-python",
   "name": "python",
   "nbconvert_exporter": "python",
   "pygments_lexer": "ipython3",
   "version": "3.10.5"
  }
 },
 "nbformat": 4,
 "nbformat_minor": 2
}
