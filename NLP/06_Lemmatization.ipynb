{
 "cells": [
  {
   "cell_type": "markdown",
   "metadata": {},
   "source": [
    "### **Lemmatization using NLTK and spaCy**"
   ]
  },
  {
   "cell_type": "markdown",
   "metadata": {
    "id": "uY4RLtm2YjCD"
   },
   "source": [
    "**Import libraries:**"
   ]
  },
  {
   "cell_type": "code",
   "execution_count": 1,
   "metadata": {
    "id": "VoxKwjwbYjCD"
   },
   "outputs": [],
   "source": [
    "import nltk\n",
    "from nltk.corpus import wordnet\n",
    "from nltk.stem import WordNetLemmatizer"
   ]
  },
  {
   "cell_type": "code",
   "execution_count": 2,
   "metadata": {
    "id": "VoxKwjwbYjCD"
   },
   "outputs": [],
   "source": [
    "import spacy"
   ]
  },
  {
   "cell_type": "markdown",
   "metadata": {
    "id": "DpvcASqKYjCE"
   },
   "source": [
    "**Performing Lemmatization using NLTK:**"
   ]
  },
  {
   "cell_type": "code",
   "execution_count": 3,
   "metadata": {
    "id": "hJl2bNnJYjCE"
   },
   "outputs": [
    {
     "name": "stderr",
     "output_type": "stream",
     "text": [
      "[nltk_data] Error loading wordnet: <urlopen error [WinError 10065] A\n",
      "[nltk_data]     socket operation was attempted to an unreachable host>\n",
      "[nltk_data] Error loading omw-1.4: <urlopen error [Errno 11001]\n",
      "[nltk_data]     getaddrinfo failed>\n",
      "[nltk_data] Error loading averaged_perceptron_tagger: <urlopen error\n",
      "[nltk_data]     [Errno 11001] getaddrinfo failed>\n"
     ]
    },
    {
     "data": {
      "text/plain": [
       "False"
      ]
     },
     "execution_count": 3,
     "metadata": {},
     "output_type": "execute_result"
    }
   ],
   "source": [
    "# Python class within NLTK that utilizes WordNet to perform lemmatization\n",
    "nltk.download('wordnet')\n",
    "\n",
    "# omw-1.4 stands for \"Open Multilingual WordNet 1.4\", contains essential files for the WordNet corpus \n",
    "nltk.download('omw-1.4') \n",
    "\n",
    "# it triggers the training of a part-of-speech tagger model directly within the Python environment\n",
    "nltk.download('averaged_perceptron_tagger')"
   ]
  },
  {
   "cell_type": "code",
   "execution_count": 4,
   "metadata": {
    "id": "-Ap-O9FIYjCB"
   },
   "outputs": [],
   "source": [
    "# Sample text\n",
    "text = \"He was running very fast when he tripped and fell onto the ground.\""
   ]
  },
  {
   "cell_type": "markdown",
   "metadata": {
    "id": "e1aC9_A-YjCF"
   },
   "source": [
    "* Create a lemmatizer object:"
   ]
  },
  {
   "cell_type": "code",
   "execution_count": 5,
   "metadata": {
    "id": "9AdIZPEeYjCF"
   },
   "outputs": [],
   "source": [
    "lemmatizer = WordNetLemmatizer()"
   ]
  },
  {
   "cell_type": "code",
   "execution_count": 6,
   "metadata": {},
   "outputs": [
    {
     "name": "stdout",
     "output_type": "stream",
     "text": [
      "He PRP\n",
      "was VBD\n",
      "running VBG\n",
      "very RB\n",
      "fast RB\n",
      "when WRB\n",
      "he PRP\n",
      "tripped VBD\n",
      "and CC\n",
      "fell VBD\n",
      "onto IN\n",
      "the DT\n",
      "ground. NN\n"
     ]
    }
   ],
   "source": [
    "for word, pos in nltk.pos_tag(text.split()):\n",
    "    print(word, pos)"
   ]
  },
  {
   "cell_type": "markdown",
   "metadata": {
    "id": "R-AI_4UlYjCG"
   },
   "source": [
    "* Iterate through each word and lemmatize based on its part-of-speech (POS) tag:"
   ]
  },
  {
   "cell_type": "code",
   "execution_count": 7,
   "metadata": {
    "id": "lJyRkz7OYjCH"
   },
   "outputs": [
    {
     "name": "stdout",
     "output_type": "stream",
     "text": [
      "NLTK: He -> He\n",
      "NLTK: was -> be\n",
      "NLTK: running -> run\n",
      "NLTK: very -> very\n",
      "NLTK: fast -> fast\n",
      "NLTK: when -> when\n",
      "NLTK: he -> he\n",
      "NLTK: tripped -> trip\n",
      "NLTK: and -> and\n",
      "NLTK: fell -> fell\n",
      "NLTK: onto -> onto\n",
      "NLTK: the -> the\n",
      "NLTK: ground. -> ground.\n"
     ]
    }
   ],
   "source": [
    "for word, pos in nltk.pos_tag(text.split()):\n",
    "       if pos.startswith('V'): # Verb\n",
    "           print(f\"NLTK: {word} -> {lemmatizer.lemmatize(word, 'v')}\")\n",
    "       elif pos.startswith('N'): # Noun\n",
    "           print(f\"NLTK: {word} -> {lemmatizer.lemmatize(word, 'n')}\")\n",
    "       elif pos.startswith('R'): # Adjective\n",
    "           print(f\"NLTK: {word} -> {lemmatizer.lemmatize(word, 'a')}\")\n",
    "       else: # Other (leave unchanged)\n",
    "           print(f\"NLTK: {word} -> {word}\")"
   ]
  },
  {
   "cell_type": "markdown",
   "metadata": {
    "id": "WDGKRkgjYjCI"
   },
   "source": [
    "**Performing Lemmatization using spaCy:**"
   ]
  },
  {
   "cell_type": "code",
   "execution_count": 8,
   "metadata": {
    "id": "c_jPp4R7YjCI"
   },
   "outputs": [],
   "source": [
    "nlp = spacy.load(\"en_core_web_sm\")"
   ]
  },
  {
   "cell_type": "markdown",
   "metadata": {
    "id": "wqK8O6kxYjCI"
   },
   "source": [
    "**Create a Doc object and iterate through tokens:**"
   ]
  },
  {
   "cell_type": "code",
   "execution_count": 9,
   "metadata": {
    "id": "NaKurc8XYjCJ"
   },
   "outputs": [
    {
     "name": "stdout",
     "output_type": "stream",
     "text": [
      "spaCy: He -> he\n",
      "spaCy: was -> be\n",
      "spaCy: running -> run\n",
      "spaCy: very -> very\n",
      "spaCy: fast -> fast\n",
      "spaCy: when -> when\n",
      "spaCy: he -> he\n",
      "spaCy: tripped -> trip\n",
      "spaCy: and -> and\n",
      "spaCy: fell -> fall\n",
      "spaCy: onto -> onto\n",
      "spaCy: the -> the\n",
      "spaCy: ground -> ground\n",
      "spaCy: . -> .\n"
     ]
    }
   ],
   "source": [
    "doc = nlp(text)\n",
    "for token in doc:\n",
    "    print(f\"spaCy: {token.text} -> {token.lemma_}\")"
   ]
  },
  {
   "cell_type": "markdown",
   "metadata": {},
   "source": [
    "**Differences between NLTK and spaCy:**\r\n",
    "\r\n",
    "* **NLTK:**\r\n",
    "    * Requires specifying part-of-speech tag for WordNet lemmatizer.\r\n",
    "    * Offers more control over the process and flexibility for rule-based approaches.\r\n",
    "    * Can be slower for large datasets.\r\n",
    "* **spaCy:**\r\n",
    "    * Uses statistical model for context-aware lemmatization.\r\n",
    "    * Faster and generally more accurate for everyday language.\r\n",
    "    * Less control over the specific lemma chosen.\r\n"
   ]
  },
  {
   "cell_type": "code",
   "execution_count": null,
   "metadata": {},
   "outputs": [],
   "source": []
  }
 ],
 "metadata": {
  "colab": {
   "provenance": []
  },
  "kernelspec": {
   "display_name": "Python 3 (ipykernel)",
   "language": "python",
   "name": "python3"
  },
  "language_info": {
   "codemirror_mode": {
    "name": "ipython",
    "version": 3
   },
   "file_extension": ".py",
   "mimetype": "text/x-python",
   "name": "python",
   "nbconvert_exporter": "python",
   "pygments_lexer": "ipython3",
   "version": "3.11.5"
  }
 },
 "nbformat": 4,
 "nbformat_minor": 4
}
