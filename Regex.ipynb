{
 "cells": [
  {
   "cell_type": "markdown",
   "metadata": {},
   "source": [
    "<center> <h1><b> Regular Expression</b> </h1> </center>\n",
    "\n",
    "---\n",
    "Powerful tool for searching and maniplating text strings based on patterns."
   ]
  },
  {
   "cell_type": "markdown",
   "metadata": {},
   "source": [
    "\n",
    "### `Importing the Library`\n",
    "\n",
    "---"
   ]
  },
  {
   "cell_type": "code",
   "execution_count": 1,
   "metadata": {},
   "outputs": [],
   "source": [
    "import re"
   ]
  },
  {
   "cell_type": "markdown",
   "metadata": {},
   "source": [
    "\n",
    "\n",
    "### `Functions in Regex`\n",
    "\n"
   ]
  },
  {
   "cell_type": "markdown",
   "metadata": {},
   "source": [
    "---\n",
    "<b>Match:</b> The match function/method is used to check if the regex pattern matches at the beginning of a string.\n",
    "\n",
    "\n",
    "\n",
    "---"
   ]
  },
  {
   "cell_type": "code",
   "execution_count": 2,
   "metadata": {},
   "outputs": [
    {
     "name": "stdout",
     "output_type": "stream",
     "text": [
      "<re.Match object; span=(0, 5), match='Tiger'>\n"
     ]
    }
   ],
   "source": [
    "sample_string = \"Tiger is the national animal of india\"\n",
    "text_pattern = \"Tiger\"\n",
    "result = re.match(pattern=text_pattern,string=sample_string)\n",
    "print(result)"
   ]
  },
  {
   "cell_type": "markdown",
   "metadata": {},
   "source": [
    "Let's check that the match function is able to search the pattern that exist at the end of the string"
   ]
  },
  {
   "cell_type": "code",
   "execution_count": 3,
   "metadata": {},
   "outputs": [
    {
     "name": "stdout",
     "output_type": "stream",
     "text": [
      "None\n"
     ]
    }
   ],
   "source": [
    "sample_string = \"National animal of india is Tiger\"\n",
    "text_pattern = \"Tiger\"\n",
    "result = re.match(pattern=text_pattern,string=sample_string)\n",
    "print(result)"
   ]
  },
  {
   "cell_type": "markdown",
   "metadata": {},
   "source": [
    "- we can observe that it only returns the matching string that exists on the beginning of the string"
   ]
  },
  {
   "cell_type": "markdown",
   "metadata": {},
   "source": [
    "---\n",
    "<b>Search:</b>  The search function/method is used to search the first occurrence of a regex pattern within a string.\n",
    "\n",
    "---"
   ]
  },
  {
   "cell_type": "code",
   "execution_count": 7,
   "metadata": {},
   "outputs": [
    {
     "data": {
      "text/plain": [
       "<re.Match object; span=(28, 33), match='Tiger'>"
      ]
     },
     "execution_count": 7,
     "metadata": {},
     "output_type": "execute_result"
    }
   ],
   "source": [
    "sample_string = \"National animal of india is Tiger\"\n",
    "text_pattern = \"Tiger\"\n",
    "result = re.search(text_pattern,sample_string)\n",
    "result"
   ]
  },
  {
   "cell_type": "markdown",
   "metadata": {},
   "source": [
    "---\n",
    "<b>findall:</b> The findall function/method is used to search all occurrences of a regex pattern within a string and return them as a list.\n",
    "\n",
    "---"
   ]
  },
  {
   "cell_type": "code",
   "execution_count": 8,
   "metadata": {},
   "outputs": [
    {
     "data": {
      "text/plain": [
       "['12-05-2007', '11-11-2011', '12-01-2009']"
      ]
     },
     "execution_count": 8,
     "metadata": {},
     "output_type": "execute_result"
    }
   ],
   "source": [
    "sample_string = \"John 34-3456 12-05-2007, XYZ 12-1234 11-11-2011, ABC 67-8945 12-01-2009\"\n",
    "date_pattern = r'\\d{2}-\\d{2}-\\d{4}'\n",
    "re.findall(pattern=date_pattern,string=sample_string)"
   ]
  },
  {
   "cell_type": "markdown",
   "metadata": {},
   "source": [
    "---\n",
    "<b>Splitting:</b> The split function/method is used to split a string into a list of substrings based on a regex pattern.\n",
    "\n",
    "---"
   ]
  },
  {
   "cell_type": "code",
   "execution_count": 9,
   "metadata": {},
   "outputs": [
    {
     "data": {
      "text/plain": [
       "['this', 'is', 'a', 'sample', 'text', 'string']"
      ]
     },
     "execution_count": 9,
     "metadata": {},
     "output_type": "execute_result"
    }
   ],
   "source": [
    "import re\n",
    "string = 'this is;a,sample,text,string'\n",
    "split_pattern = r'[;,\\s]'\n",
    "re.split(pattern=split_pattern,string=string)"
   ]
  },
  {
   "cell_type": "markdown",
   "metadata": {},
   "source": [
    "---\n",
    "<b>Substitution:</b> The sub function/method is used to replace all occurrences of a regex pattern within a string with another string.\n",
    "\n",
    "---"
   ]
  },
  {
   "cell_type": "code",
   "execution_count": 10,
   "metadata": {},
   "outputs": [
    {
     "data": {
      "text/plain": [
       "'cricket is a popular sport of the world'"
      ]
     },
     "execution_count": 10,
     "metadata": {},
     "output_type": "execute_result"
    }
   ],
   "source": [
    "sam_string = 'cricket is a popular sport of india'\n",
    "sam_pattern = 'india'\n",
    "sam_replacement = 'the world'\n",
    "\n",
    "re.sub(sam_pattern,sam_replacement,sam_string)"
   ]
  },
  {
   "cell_type": "markdown",
   "metadata": {},
   "source": [
    "---\n",
    "\n",
    "### `Anchors:`\n",
    "\n",
    "\n",
    "---"
   ]
  },
  {
   "cell_type": "markdown",
   "metadata": {},
   "source": [
    "- ^ - to match the beginning of a string\n",
    "- $ - to match the ending of a string"
   ]
  },
  {
   "cell_type": "code",
   "execution_count": 11,
   "metadata": {},
   "outputs": [
    {
     "name": "stdout",
     "output_type": "stream",
     "text": [
      "<re.Match object; span=(0, 1), match='a'>\n",
      "None\n"
     ]
    }
   ],
   "source": [
    "print(re.search(r'^a', 'apple'))\n",
    "print(re.search(r'^a', 'pardhiva'))"
   ]
  },
  {
   "cell_type": "code",
   "execution_count": 12,
   "metadata": {},
   "outputs": [
    {
     "name": "stdout",
     "output_type": "stream",
     "text": [
      "None\n",
      "<re.Match object; span=(7, 8), match='a'>\n"
     ]
    }
   ],
   "source": [
    "print(re.search('a$','apple'))\n",
    "print(re.search('a$','pardhiva'))"
   ]
  },
  {
   "cell_type": "markdown",
   "metadata": {},
   "source": [
    "### `Metacharacters`\n",
    "\n",
    "---\n",
    "\n",
    "Meta characters( [] character classes, ^ caret, $ dollar-sign, ) are that of special meaning in regex.\n",
    "\n",
    "---\n",
    "- \\d for any decimal digit,[0-9]\n",
    "- \\D for non-digit character,[^0-9]\n",
    "- \\s for whitespace character   \n",
    "- \\S for non-whitespace character\n",
    "- \\w for any alphanumeric character, [a-zA-Z0-9_]\n",
    "- \\W for any non-alphanumeric character, equivalent to [^a-zA-Z0-9_]\n",
    "\n",
    "\n"
   ]
  },
  {
   "cell_type": "markdown",
   "metadata": {},
   "source": [
    "If you want to represent a metacharacter literally, you can use a backslash to escape the character:"
   ]
  },
  {
   "cell_type": "code",
   "execution_count": 13,
   "metadata": {},
   "outputs": [
    {
     "name": "stdout",
     "output_type": "stream",
     "text": [
      "None\n",
      "<re.Match object; span=(0, 7), match='[hello]'>\n"
     ]
    }
   ],
   "source": [
    "print(re.search(r'\\[hello\\]','h'))\n",
    "print(re.search(r'\\[hello\\]','[hello]'))"
   ]
  },
  {
   "cell_type": "code",
   "execution_count": 14,
   "metadata": {},
   "outputs": [
    {
     "name": "stdout",
     "output_type": "stream",
     "text": [
      "<re.Match object; span=(4, 4), match=''>\n",
      "<re.Match object; span=(0, 1), match='$'>\n"
     ]
    }
   ],
   "source": [
    "print(re.search(r'$','$100'))\n",
    "print(re.search(r'\\$', '$100'))"
   ]
  },
  {
   "cell_type": "markdown",
   "metadata": {},
   "source": [
    "- '.' matches anything except newline character\n"
   ]
  },
  {
   "cell_type": "code",
   "execution_count": 15,
   "metadata": {},
   "outputs": [
    {
     "data": {
      "text/plain": [
       "<re.Match object; span=(0, 1), match='a'>"
      ]
     },
     "execution_count": 15,
     "metadata": {},
     "output_type": "execute_result"
    }
   ],
   "source": [
    "re.search(r'.', 'a')"
   ]
  },
  {
   "cell_type": "code",
   "execution_count": 16,
   "metadata": {},
   "outputs": [],
   "source": [
    "re.search(r'.', '\\n')"
   ]
  },
  {
   "cell_type": "markdown",
   "metadata": {},
   "source": [
    "we can use re.DOTALL flag to match the newline using '.' meta character.\n",
    "\n",
    "- 're.DOTALL' matches anything including newline character"
   ]
  },
  {
   "cell_type": "code",
   "execution_count": 17,
   "metadata": {},
   "outputs": [
    {
     "name": "stdout",
     "output_type": "stream",
     "text": [
      "<re.Match object; span=(0, 1), match='\\n'>\n"
     ]
    }
   ],
   "source": [
    "print(re.search(r'.','\\n',flags=re.DOTALL))"
   ]
  },
  {
   "cell_type": "markdown",
   "metadata": {},
   "source": [
    "### `Quantifiers`\n",
    "\n",
    "---\n",
    "- It specifies the quantity or repetitions of the preceding element in the regex pattern.\n",
    "- Quantifiers are used with metacharacters like `*`, `+`,`{n}`,`{n,}`,`{n,m}`.\n",
    "\n",
    "---\n",
    "- `*` : Zero or more ocuurrences of the preceding element.\n",
    "  - Example: `a* `: \"\",\"a\",\"aa\",\"aaa\",and so on.\n",
    "\n",
    "- `+` : one or more occurrences of the preceding element.\n",
    "    - Example: `a+` : \"a\",\"aa\",\"aaa\",and so on.\n",
    "\n",
    "- `?` : Zero or one occurrence of the preceding element.\n",
    "   - Example: `a?`: \"\", \"a\".\n",
    "\n",
    "- `{n}` : Exactly 'n' number of times.\n",
    "   - Example: `a{3}: \"aaa\" only.\"\n",
    "\n",
    "- `{n,}` : At least 'n' number of times.\n",
    "   - Example: `a{2,}: \"aaa\",\"aaaa\",\"aaaaa\",... and so on.`\n",
    "\n",
    "- `{n,m}` : Between 'n' to 'm' number of times.\n",
    "   - Example: `a{2,4}: \"aa\", \"aaa\",\"aaaa\" only.\n",
    "\n",
    "\n",
    "---\n",
    "\n",
    "- `*?`, `+?`, `??`, `{n,m}?` (Lazy or Non-Greedy): Makes the quantifier lazy, matching as few characters as possible.\n",
    "\n"
   ]
  },
  {
   "cell_type": "code",
   "execution_count": 18,
   "metadata": {},
   "outputs": [
    {
     "data": {
      "text/plain": [
       "['', 'ee', '', '', '', '', '', 'e', '']"
      ]
     },
     "execution_count": 18,
     "metadata": {},
     "output_type": "execute_result"
    }
   ],
   "source": [
    "re.findall(r'e*',\"need more\")"
   ]
  },
  {
   "cell_type": "code",
   "execution_count": 19,
   "metadata": {},
   "outputs": [
    {
     "data": {
      "text/plain": [
       "['ee', 'e']"
      ]
     },
     "execution_count": 19,
     "metadata": {},
     "output_type": "execute_result"
    }
   ],
   "source": [
    "re.findall(r'e+',\"need more\")"
   ]
  },
  {
   "cell_type": "code",
   "execution_count": 20,
   "metadata": {},
   "outputs": [
    {
     "data": {
      "text/plain": [
       "['', 'e', 'e', '', '', '', '', '', 'e', '']"
      ]
     },
     "execution_count": 20,
     "metadata": {},
     "output_type": "execute_result"
    }
   ],
   "source": [
    "re.findall(r'e?',\"need more\")"
   ]
  },
  {
   "cell_type": "code",
   "execution_count": 21,
   "metadata": {},
   "outputs": [
    {
     "data": {
      "text/plain": [
       "['ee', 'ee']"
      ]
     },
     "execution_count": 21,
     "metadata": {},
     "output_type": "execute_result"
    }
   ],
   "source": [
    "re.findall(r'e{2}',\"need more gheee\")"
   ]
  },
  {
   "cell_type": "code",
   "execution_count": 22,
   "metadata": {},
   "outputs": [
    {
     "data": {
      "text/plain": [
       "['ee', 'e', 'eee']"
      ]
     },
     "execution_count": 22,
     "metadata": {},
     "output_type": "execute_result"
    }
   ],
   "source": [
    "re.findall(r'e{1,}',\"need more gheee\")"
   ]
  },
  {
   "cell_type": "code",
   "execution_count": 23,
   "metadata": {},
   "outputs": [
    {
     "data": {
      "text/plain": [
       "['ee', 'e', 'e']"
      ]
     },
     "execution_count": 23,
     "metadata": {},
     "output_type": "execute_result"
    }
   ],
   "source": [
    "# Give \n",
    "re.findall(r'e{1,2}',\"need more tea\")"
   ]
  },
  {
   "cell_type": "code",
   "execution_count": 24,
   "metadata": {},
   "outputs": [
    {
     "data": {
      "text/plain": [
       "['need']"
      ]
     },
     "execution_count": 24,
     "metadata": {},
     "output_type": "execute_result"
    }
   ],
   "source": [
    "# Print the next 3 characters after n \n",
    "re.findall(r'n.{3}','need more tea')"
   ]
  },
  {
   "cell_type": "code",
   "execution_count": 25,
   "metadata": {},
   "outputs": [
    {
     "data": {
      "text/plain": [
       "<re.Match object; span=(14, 49), match='training_queries@analyticsvidya.com'>"
      ]
     },
     "execution_count": 25,
     "metadata": {},
     "output_type": "execute_result"
    }
   ],
   "source": [
    "string = \"Contact us on training_queries@analyticsvidya.com\"\n",
    "pattern = r'([\\w.-]+)@([\\w.-]+)'\n",
    "re.search(pattern,string)"
   ]
  },
  {
   "cell_type": "markdown",
   "metadata": {},
   "source": [
    "---\n",
    "---"
   ]
  },
  {
   "cell_type": "markdown",
   "metadata": {},
   "source": [
    "## `Regex Flags`\n",
    "**Regex flags, also known as regular expression flags or modifiers, are optional parameters used in regular expression functions to modify the behavior of the pattern matching. These flags control various aspects of pattern matching, such as case sensitivity, multiline mode, and Unicode matching.**\n",
    "\n",
    "\n",
    "### **Flags**\n",
    "\n",
    "| Flag                  | Description                                                                                                   |\n",
    "|-----------------------|---------------------------------------------------------------------------------------------------------------|\n",
    "| re.IGNORECASE (re.I)  | Makes the pattern matching case-insensitive, allowing it to match both uppercase and lowercase characters.  |\n",
    "| re.MULTILINE (re.M)   | Enables multiline mode, allowing '^' and '$' anchors to match the beginning and end of each line.           |\n",
    "| re.DOTALL (re.S)      | Makes the dot ('.') in the pattern match any character, including newline characters ('\\n').                |\n",
    "| re.UNICODE (re.U)     | Enables Unicode matching, allowing patterns and input strings to contain Unicode characters.                |\n",
    "| re.VERBOSE (re.X)     | Allows the use of whitespace and comments within the pattern for better readability.                         |\n",
    "| re.ASCII              | Makes certain escape sequences perform ASCII-only matching instead of Unicode matching.                      |\n",
    "| re.DEBUG              | Displays debugging information about the compilation of the regular expression pattern.                      |\n"
   ]
  },
  {
   "cell_type": "code",
   "execution_count": 26,
   "metadata": {},
   "outputs": [
    {
     "name": "stdout",
     "output_type": "stream",
     "text": [
      "Hello, World!\n"
     ]
    }
   ],
   "source": [
    "import re\n",
    "text = \"Hello, World!\"\n",
    "pattern = r'hello, world!'\n",
    "match = re.search(pattern, text, re.IGNORECASE)\n",
    "print(match.group())  # Output: Hello, World!"
   ]
  },
  {
   "cell_type": "code",
   "execution_count": 27,
   "metadata": {},
   "outputs": [
    {
     "name": "stdout",
     "output_type": "stream",
     "text": [
      "['Hello2', 'satwik782']\n"
     ]
    }
   ],
   "source": [
    "import re\n",
    "text = \"\"\"\\\n",
    "Hello2\n",
    "World\n",
    "1234;;5'\n",
    "#123*\n",
    "satwik782\n",
    "\"\"\"\n",
    "# re.MULTILINE (re.M) -> Enables multiline mode, allowing '^' and '$' anchors to match the beginning and end of each line.\n",
    "pattern = r'^\\w+\\d$'\n",
    "matches = re.findall(pattern, text, re.MULTILINE)\n",
    "print(matches)  # Output: ['Hello', 'World']\n"
   ]
  },
  {
   "cell_type": "code",
   "execution_count": 28,
   "metadata": {},
   "outputs": [
    {
     "name": "stdout",
     "output_type": "stream",
     "text": [
      "Hello\n",
      "World\n"
     ]
    }
   ],
   "source": [
    "import re\n",
    "text = \"Hello\\nWorld\"\n",
    "pattern = r'Hello.World'\n",
    "match = re.search(pattern, text, re.DOTALL)\n",
    "print(match.group())  # Output: Hello\\nWorld\n"
   ]
  },
  {
   "cell_type": "code",
   "execution_count": 29,
   "metadata": {},
   "outputs": [
    {
     "name": "stdout",
     "output_type": "stream",
     "text": [
      "[('Hello', 'World'), ('hello', 'satwik'), ('123', 'asdf')]\n"
     ]
    }
   ],
   "source": [
    "import re\n",
    "text = '''Hello, World!\n",
    "hello, satwik!\n",
    "123, asdf!'''\n",
    "pattern = r'''\n",
    "          (\\w+),  # Match 'hello,'\n",
    "          \\s+     # Match one or more whitespace characters\n",
    "          (\\w+)!  # Match 'world!'\n",
    "          '''\n",
    "match = re.findall(pattern, text, re.VERBOSE | re.IGNORECASE | re.MULTILINE)\n",
    "print(match)  # Output: Hello, World!\n"
   ]
  },
  {
   "cell_type": "code",
   "execution_count": 30,
   "metadata": {},
   "outputs": [
    {
     "name": "stdout",
     "output_type": "stream",
     "text": [
      "LITERAL 104\n",
      "LITERAL 101\n",
      "LITERAL 108\n",
      "LITERAL 108\n",
      "LITERAL 111\n",
      "\n",
      " 0. INFO 16 0b11 5 5 (to 17)\n",
      "      prefix_skip 5\n",
      "      prefix [0x68, 0x65, 0x6c, 0x6c, 0x6f] ('hello')\n",
      "      overlap [0, 0, 0, 0, 0]\n",
      "17: LITERAL 0x68 ('h')\n",
      "19. LITERAL 0x65 ('e')\n",
      "21. LITERAL 0x6c ('l')\n",
      "23. LITERAL 0x6c ('l')\n",
      "25. LITERAL 0x6f ('o')\n",
      "27. SUCCESS\n"
     ]
    }
   ],
   "source": [
    "import re\n",
    "pattern = r'hello'\n",
    "compiled_pattern = re.compile(pattern, re.DEBUG)\n"
   ]
  },
  {
   "cell_type": "markdown",
   "metadata": {},
   "source": [
    "---\n",
    "---"
   ]
  },
  {
   "cell_type": "markdown",
   "metadata": {},
   "source": [
    "# **Placeholders**"
   ]
  },
  {
   "cell_type": "code",
   "execution_count": 31,
   "metadata": {},
   "outputs": [],
   "source": [
    "def search_pattern(string, pattern):\n",
    "    if re.search(pattern, string):\n",
    "        return print(re.search(pattern, string))\n",
    "    else:\n",
    "        return print(\"Not Found\")"
   ]
  },
  {
   "cell_type": "markdown",
   "metadata": {},
   "source": [
    "## `Wildcard`"
   ]
  },
  {
   "cell_type": "code",
   "execution_count": 32,
   "metadata": {},
   "outputs": [
    {
     "name": "stdout",
     "output_type": "stream",
     "text": [
      "<re.Match object; span=(0, 1), match='a'>\n",
      "<re.Match object; span=(0, 1), match='#'>\n",
      "<re.Match object; span=(0, 1), match='1'>\n"
     ]
    }
   ],
   "source": [
    "# . matches any character\n",
    "search_pattern(\"a\", \".\")\n",
    "search_pattern(\"#\",'.')\n",
    "search_pattern(\"1\",'.')"
   ]
  },
  {
   "cell_type": "markdown",
   "metadata": {},
   "source": [
    "## `Character Sets`\n",
    "\n",
    "- Any thing written in the square brackets is a set\n",
    "- They're specifiying a character class, which is a set of characters that you wish to match.\n"
   ]
  },
  {
   "cell_type": "code",
   "execution_count": 33,
   "metadata": {},
   "outputs": [
    {
     "name": "stdout",
     "output_type": "stream",
     "text": [
      "<re.Match object; span=(0, 1), match='a'>\n"
     ]
    }
   ],
   "source": [
    "search_pattern(\"a\",\"[abc]\")"
   ]
  },
  {
   "cell_type": "markdown",
   "metadata": {},
   "source": [
    "A range of characters can be indicated by giving by two characters and separating them by a \"-\".\n",
    "\n",
    "For example, \"a-z\" indicates all lowercase letters."
   ]
  },
  {
   "cell_type": "code",
   "execution_count": 34,
   "metadata": {},
   "outputs": [
    {
     "name": "stdout",
     "output_type": "stream",
     "text": [
      "<re.Match object; span=(0, 1), match='a'>\n"
     ]
    }
   ],
   "source": [
    "search_pattern(\"a\",\"[a-c]\")"
   ]
  },
  {
   "cell_type": "markdown",
   "metadata": {},
   "source": [
    "`^` is used inside character set to indicate complementary set"
   ]
  },
  {
   "cell_type": "code",
   "execution_count": 35,
   "metadata": {},
   "outputs": [
    {
     "name": "stdout",
     "output_type": "stream",
     "text": [
      "Not Found\n"
     ]
    }
   ],
   "source": [
    "search_pattern(\"a\",'[^abc]')"
   ]
  },
  {
   "cell_type": "markdown",
   "metadata": {},
   "source": [
    "### Character sets\n",
    "| Pattern  | Matches                                                                                    |\n",
    "|----------|--------------------------------------------------------------------------------------------|\n",
    "| [abc]    | Matches either an a, b or c character                                                      |\n",
    "| [abcABC] | Matches either an a, A, b, B, c or C character                                             |\n",
    "| [a-z]    | Matches any characters between a and z, including a and z                                  |\n",
    "| [A-Z]    | Matches any characters between A and Z, including A and Z                                  |\n",
    "| [a-zA-Z] | Matches any characters between a and z, including a and z ignoring cases of the characters |\n",
    "| [0-9]    | Matches any character which is a number between 0 and 9                                    |"
   ]
  },
  {
   "cell_type": "markdown",
   "metadata": {},
   "source": [
    "### Meta sequences\n",
    "\n",
    "| Pattern  | Equivalent to    |\n",
    "|----------|------------------|\n",
    "| \\s       | [ \\t\\n\\r\\f\\v]    |\n",
    "| \\S       | [^ \\t\\n\\r\\f\\v]   |\n",
    "| \\d       | [0-9]            |\n",
    "| \\D       | [^0-9]           |\n",
    "| \\w       | [a-zA-Z0-9_]     |\n",
    "| \\W       | [^a-zA-Z0-9_]    |"
   ]
  },
  {
   "cell_type": "code",
   "execution_count": 36,
   "metadata": {},
   "outputs": [
    {
     "name": "stdout",
     "output_type": "stream",
     "text": [
      "<re.Match object; span=(6, 7), match=' '>\n",
      "Not Found\n",
      "<re.Match object; span=(0, 6), match='UpGrad'>\n",
      "<re.Match object; span=(0, 19), match='UpGrad welcomes you'>\n"
     ]
    }
   ],
   "source": [
    "search_pattern(\"UpGrad welcomes you\", '\\s+')\n",
    "search_pattern(\"UpGrad welcomes you\", '\\d+')\n",
    "search_pattern(\"UpGrad welcomes you\", '\\w+')\n",
    "\n",
    "search_pattern(\"UpGrad welcomes you\", '[\\w\\s]+')\n"
   ]
  },
  {
   "cell_type": "markdown",
   "metadata": {},
   "source": [
    "## `Greedy vs Non Greedy Regex`"
   ]
  },
  {
   "cell_type": "code",
   "execution_count": 37,
   "metadata": {},
   "outputs": [
    {
     "name": "stdout",
     "output_type": "stream",
     "text": [
      "<re.Match object; span=(1, 7), match='abbbbb'>\n",
      "<re.Match object; span=(1, 5), match='abbb'>\n"
     ]
    }
   ],
   "source": [
    "search_pattern(\"aabbbbbbc\", 'ab{3,5}') # Greedy\n",
    "\n",
    "search_pattern(\"aabbbbbbc\", 'ab{3,5}?') # Non greedy/lasy regex"
   ]
  },
  {
   "cell_type": "code",
   "execution_count": 38,
   "metadata": {},
   "outputs": [
    {
     "name": "stdout",
     "output_type": "stream",
     "text": [
      "<re.Match object; span=(0, 37), match='<HTML><TITLE> MY PAGE </TITLE></HTML>'>\n"
     ]
    }
   ],
   "source": [
    "search_pattern(\"<HTML><TITLE> MY PAGE </TITLE></HTML>\", \"<.*>\")"
   ]
  },
  {
   "cell_type": "code",
   "execution_count": 39,
   "metadata": {},
   "outputs": [
    {
     "name": "stdout",
     "output_type": "stream",
     "text": [
      "<re.Match object; span=(0, 6), match='<HTML>'>\n"
     ]
    }
   ],
   "source": [
    "search_pattern(\"<HTML><TITLE> MY PAGE </TITLE></HTML>\", \"<.*?>\")"
   ]
  },
  {
   "cell_type": "markdown",
   "metadata": {},
   "source": [
    "---\n",
    "---"
   ]
  },
  {
   "cell_type": "markdown",
   "metadata": {},
   "source": [
    "## `Common used Regex functions`"
   ]
  },
  {
   "cell_type": "code",
   "execution_count": 40,
   "metadata": {},
   "outputs": [],
   "source": [
    "def match_pattern(string, pattern):\n",
    "    if re.match(string,pattern):\n",
    "        return print(re.match(string,pattern))\n",
    "    else:\n",
    "        return print(\"Not Found!\")"
   ]
  },
  {
   "cell_type": "code",
   "execution_count": 41,
   "metadata": {},
   "outputs": [
    {
     "name": "stdout",
     "output_type": "stream",
     "text": [
      "<re.Match object; span=(1, 3), match='bb'>\n",
      "<re.Match object; span=(0, 3), match='bbc'>\n"
     ]
    }
   ],
   "source": [
    "search_pattern(\"abbc\", \"b+\")\n",
    "match_pattern(\"bbc\", \"bbc\")"
   ]
  },
  {
   "cell_type": "code",
   "execution_count": 42,
   "metadata": {},
   "outputs": [],
   "source": [
    "def sub_string(old_str, new_str, text):\n",
    "    if re.findall(old_str,text):\n",
    "        return print(re.sub(old_str,new_str,text))\n",
    "    else:\n",
    "        return print(\"{}, not found in the given text\".format(old_str))\n",
    "    "
   ]
  },
  {
   "cell_type": "code",
   "execution_count": 43,
   "metadata": {},
   "outputs": [
    {
     "name": "stdout",
     "output_type": "stream",
     "text": [
      "21 Ramkrishna Rd\n"
     ]
    }
   ],
   "source": [
    "sub_string('Road', 'Rd', '21 Ramkrishna Road')"
   ]
  },
  {
   "cell_type": "code",
   "execution_count": 44,
   "metadata": {},
   "outputs": [
    {
     "name": "stdout",
     "output_type": "stream",
     "text": [
      "21 Rd Rd\n"
     ]
    }
   ],
   "source": [
    "sub_string('R\\w+','Rd','21 Ramkrishna Road')"
   ]
  },
  {
   "cell_type": "code",
   "execution_count": 45,
   "metadata": {},
   "outputs": [
    {
     "name": "stdout",
     "output_type": "stream",
     "text": [
      "#### or ####\n"
     ]
    }
   ],
   "source": [
    "sub_string(\"\\d{11}\",\"####\",\"07400029954 or 02261562153\")"
   ]
  },
  {
   "cell_type": "code",
   "execution_count": 46,
   "metadata": {},
   "outputs": [
    {
     "name": "stdout",
     "output_type": "stream",
     "text": [
      "$uilding careers of tomorrow\n"
     ]
    }
   ],
   "source": [
    "sub_string(\"[A-Z]\",\"$\",\"Building careers of tomorrow\")"
   ]
  },
  {
   "cell_type": "code",
   "execution_count": 47,
   "metadata": {},
   "outputs": [],
   "source": [
    "import re\n",
    "def find_iter(text, pattern):\n",
    "    if re.search(pattern, text):\n",
    "        for match in re.finditer(pattern,text):\n",
    "            start = match.start()\n",
    "            end = match.end()\n",
    "            print(\"start - {} | end - {}.\".format(start, end))\n",
    "    else:\n",
    "        print(\"Not Found!\")    \n"
   ]
  },
  {
   "cell_type": "code",
   "execution_count": 48,
   "metadata": {},
   "outputs": [
    {
     "name": "stdout",
     "output_type": "stream",
     "text": [
      "start - 12 | end - 20.\n",
      "start - 42 | end - 50.\n"
     ]
    }
   ],
   "source": [
    "find_iter('Diwali is a festival of lights, Holi is a festival of colors','festival')"
   ]
  },
  {
   "cell_type": "code",
   "execution_count": 49,
   "metadata": {},
   "outputs": [
    {
     "name": "stdout",
     "output_type": "stream",
     "text": [
      "start - 32 | end - 36.\n"
     ]
    }
   ],
   "source": [
    "find_iter('Diwali is a festival of lights, Holi is a festival of colors','Holi')"
   ]
  },
  {
   "cell_type": "code",
   "execution_count": 50,
   "metadata": {},
   "outputs": [
    {
     "name": "stdout",
     "output_type": "stream",
     "text": [
      "Not Found!\n"
     ]
    }
   ],
   "source": [
    "find_iter('Diwali is a festival of lights, Holi is a festival of colors','Dasara')"
   ]
  },
  {
   "cell_type": "markdown",
   "metadata": {},
   "source": [
    "# `Date`\n",
    "\n"
   ]
  },
  {
   "cell_type": "code",
   "execution_count": 51,
   "metadata": {},
   "outputs": [],
   "source": [
    "def find_date(text):\n",
    "    pattern = r'(?:\\d{1,4}/\\d{1,2}/\\d{1,2})|(?:\\d{1,2}/\\d{1,2}/\\d{1,4})'\n",
    "    print(re.findall(pattern, text))"
   ]
  },
  {
   "cell_type": "code",
   "execution_count": 52,
   "metadata": {},
   "outputs": [
    {
     "name": "stdout",
     "output_type": "stream",
     "text": [
      "['2017/10/28', '02/12/20', '20/05/20']\n"
     ]
    }
   ],
   "source": [
    "url = \"http://www.telegraph.co.uk/formula-1/2017/10/28/mexican-grand-prix-/02/12/2017-time-does-start-tv-channel-odds-lewisl/20/05/2012/\"\n",
    "\n",
    "find_date(url)"
   ]
  },
  {
   "cell_type": "code",
   "execution_count": 53,
   "metadata": {},
   "outputs": [
    {
     "name": "stdout",
     "output_type": "stream",
     "text": [
      "2017/10/28\n"
     ]
    }
   ],
   "source": [
    "date_Regex= r'(\\d{4})/(\\d{1,2})/(\\d{1,2})|(\\d{1,2})/(\\d{1,2})/(\\d{4})'\n",
    "\n",
    "ml= re.search(string = url, pattern =date_Regex)\n",
    "print(ml.group())"
   ]
  },
  {
   "cell_type": "code",
   "execution_count": 54,
   "metadata": {},
   "outputs": [
    {
     "name": "stdout",
     "output_type": "stream",
     "text": [
      "10\n"
     ]
    }
   ],
   "source": [
    "print(ml.group(2))"
   ]
  },
  {
   "cell_type": "code",
   "execution_count": 55,
   "metadata": {},
   "outputs": [
    {
     "name": "stdout",
     "output_type": "stream",
     "text": [
      "2\n"
     ]
    }
   ],
   "source": [
    "string = \"Playing outdoor games when its raining outside is always fun!\"\n",
    "# regex pattern\n",
    "pattern ='\\w*ing' # write regex to extract words ending with 'ing'\n",
    "\n",
    "# store results in the list 'result'\n",
    "result =[match for match in re.findall(pattern,string)] # extract words having the required pattern, using the findall function\n",
    "\n",
    "# evaluate result - don't change the following piece of code, it is used to evaluate your regex\n",
    "print(len(result))"
   ]
  },
  {
   "cell_type": "code",
   "execution_count": 59,
   "metadata": {},
   "outputs": [
    {
     "name": "stdout",
     "output_type": "stream",
     "text": [
      "<re.Match object; span=(0, 12), match='uppadasatwik'>\n"
     ]
    }
   ],
   "source": [
    "\n",
    "string = \"uppadasatwik@gmail.com\"\n",
    "# regex pattern\n",
    "pattern ='[a-z]*' \n",
    "\n",
    "# store results in the list 'result'\n",
    "result =re.search(pattern,string) # extract words having the required pattern, using the findall function\n",
    "\n",
    "# evaluate result - don't change the following piece of code, it is used to evaluate your regex\n",
    "print((result))"
   ]
  },
  {
   "cell_type": "code",
   "execution_count": 275,
   "metadata": {},
   "outputs": [
    {
     "name": "stdout",
     "output_type": "stream",
     "text": [
      "['image001.jpg', 'image002.jpg', 'image005.jpg', 'wallpaper.jpg', 'flower.jpg', 'earth.jpg', 'monkey.jpg']\n"
     ]
    }
   ],
   "source": [
    "# items contain all the files and folders of current directory\n",
    "items = ['photos', 'documents', 'videos', 'image001.jpg','image002.jpg','image005.jpg', 'wallpaper.jpg', 'flower.jpg', 'earth.jpg', 'monkey.jpg', 'image002.png']\n",
    "\n",
    "# create an empty list to store resultant files\n",
    "images = []\n",
    "\n",
    "# regex pattern to extract files that end with '.jpg'\n",
    "pattern = \".*\\.jpg$\"\n",
    "\n",
    "for item in items:\n",
    "    if re.search(pattern, item):\n",
    "       images.append(item)\n",
    "\n",
    "# print result\n",
    "print(images)"
   ]
  }
 ],
 "metadata": {
  "kernelspec": {
   "display_name": "Python 3",
   "language": "python",
   "name": "python3"
  },
  "language_info": {
   "codemirror_mode": {
    "name": "ipython",
    "version": 3
   },
   "file_extension": ".py",
   "mimetype": "text/x-python",
   "name": "python",
   "nbconvert_exporter": "python",
   "pygments_lexer": "ipython3",
   "version": "3.12.0"
  }
 },
 "nbformat": 4,
 "nbformat_minor": 2
}
